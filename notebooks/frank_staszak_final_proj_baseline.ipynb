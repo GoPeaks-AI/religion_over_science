{
 "cells": [
  {
   "cell_type": "markdown",
   "metadata": {},
   "source": [
    "# LASSO regression, as predicted by one-hot encoded values of year, country, language, and occupation.\n",
    "\n",
    "\n",
    "#### Metric of evaluation type and justification: \n",
    "We use R-squared as a metric of evaluation. A linear relationship is assumed to exist between the group of independent variables year, country, language, and occupation and the dependent (target) variable Religion_over_science; hence the Lasso regression algorithm will evaluate the data. Lasso regression also lowers complexity and reduces noise in the model. R-squared will show a good measurement of how well the model fits the dependent variables based on the penalties enforced by Lasso regression."
   ]
  },
  {
   "cell_type": "code",
   "execution_count": 14,
   "metadata": {
    "colab": {
     "base_uri": "https://localhost:8080/",
     "height": 605
    },
    "id": "WXKHSLidjP9K",
    "outputId": "a0a1f29e-05b1-428e-f551-ffb82a0ff34d"
   },
   "outputs": [
    {
     "name": "stdout",
     "output_type": "stream",
     "text": [
      "----------------------------------------------------------------------------------------------------\n",
      "Descriptions of all variable labels other than the renamed ones\n",
      "----------------------------------------------------------------------------------------------------\n"
     ]
    },
    {
     "data": {
      "text/html": [
       "<div>\n",
       "<style scoped>\n",
       "    .dataframe tbody tr th:only-of-type {\n",
       "        vertical-align: middle;\n",
       "    }\n",
       "\n",
       "    .dataframe tbody tr th {\n",
       "        vertical-align: top;\n",
       "    }\n",
       "\n",
       "    .dataframe thead th {\n",
       "        text-align: right;\n",
       "    }\n",
       "</style>\n",
       "<table border=\"1\" class=\"dataframe\">\n",
       "  <thead>\n",
       "    <tr style=\"text-align: right;\">\n",
       "      <th></th>\n",
       "      <th>alpha</th>\n",
       "      <th>R2 (train)</th>\n",
       "      <th>R2 (test)</th>\n",
       "      <th>Time (sec)</th>\n",
       "    </tr>\n",
       "  </thead>\n",
       "  <tbody>\n",
       "    <tr>\n",
       "      <th>0</th>\n",
       "      <td>0.000</td>\n",
       "      <td>0.474</td>\n",
       "      <td>0.476</td>\n",
       "      <td>1.944</td>\n",
       "    </tr>\n",
       "    <tr>\n",
       "      <th>1</th>\n",
       "      <td>0.033</td>\n",
       "      <td>0.353</td>\n",
       "      <td>0.356</td>\n",
       "      <td>0.335</td>\n",
       "    </tr>\n",
       "    <tr>\n",
       "      <th>2</th>\n",
       "      <td>0.067</td>\n",
       "      <td>0.320</td>\n",
       "      <td>0.323</td>\n",
       "      <td>0.351</td>\n",
       "    </tr>\n",
       "    <tr>\n",
       "      <th>3</th>\n",
       "      <td>0.100</td>\n",
       "      <td>0.295</td>\n",
       "      <td>0.298</td>\n",
       "      <td>0.336</td>\n",
       "    </tr>\n",
       "    <tr>\n",
       "      <th>4</th>\n",
       "      <td>0.133</td>\n",
       "      <td>0.265</td>\n",
       "      <td>0.268</td>\n",
       "      <td>0.342</td>\n",
       "    </tr>\n",
       "    <tr>\n",
       "      <th>5</th>\n",
       "      <td>0.167</td>\n",
       "      <td>0.228</td>\n",
       "      <td>0.230</td>\n",
       "      <td>0.332</td>\n",
       "    </tr>\n",
       "    <tr>\n",
       "      <th>6</th>\n",
       "      <td>0.200</td>\n",
       "      <td>0.193</td>\n",
       "      <td>0.195</td>\n",
       "      <td>0.329</td>\n",
       "    </tr>\n",
       "    <tr>\n",
       "      <th>7</th>\n",
       "      <td>0.233</td>\n",
       "      <td>0.161</td>\n",
       "      <td>0.163</td>\n",
       "      <td>0.327</td>\n",
       "    </tr>\n",
       "    <tr>\n",
       "      <th>8</th>\n",
       "      <td>0.267</td>\n",
       "      <td>0.134</td>\n",
       "      <td>0.136</td>\n",
       "      <td>0.328</td>\n",
       "    </tr>\n",
       "    <tr>\n",
       "      <th>9</th>\n",
       "      <td>0.300</td>\n",
       "      <td>0.106</td>\n",
       "      <td>0.108</td>\n",
       "      <td>0.319</td>\n",
       "    </tr>\n",
       "  </tbody>\n",
       "</table>\n",
       "</div>"
      ],
      "text/plain": [
       "   alpha  R2 (train)  R2 (test)  Time (sec)\n",
       "0  0.000       0.474      0.476       1.944\n",
       "1  0.033       0.353      0.356       0.335\n",
       "2  0.067       0.320      0.323       0.351\n",
       "3  0.100       0.295      0.298       0.336\n",
       "4  0.133       0.265      0.268       0.342\n",
       "5  0.167       0.228      0.230       0.332\n",
       "6  0.200       0.193      0.195       0.329\n",
       "7  0.233       0.161      0.163       0.327\n",
       "8  0.267       0.134      0.136       0.328\n",
       "9  0.300       0.106      0.108       0.319"
      ]
     },
     "metadata": {},
     "output_type": "display_data"
    },
    {
     "data": {
      "image/png": "[encoded data removed]",
      "text/plain": [
       "<Figure size 432x288 with 1 Axes>"
      ]
     },
     "metadata": {
      "needs_background": "light"
     },
     "output_type": "display_data"
    }
   ],
   "source": [
    "# load basic packages\n",
    "import numpy as np\n",
    "import pandas as pd\n",
    "pd.set_option('display.max_columns', None)\n",
    "pd.set_option('display.max_rows', None)\n",
    "pd.options.display.float_format = '{:,.3f}'.format\n",
    "from numpy import mean\n",
    "from numpy import std\n",
    "from numpy import absolute\n",
    "from pandas import read_csv\n",
    "\n",
    "# load visualization packages\n",
    "import matplotlib.pyplot as plt\n",
    "%matplotlib inline\n",
    "import seaborn as sns\n",
    "colors = sns.color_palette()\n",
    "\n",
    "# load sklearn packages\n",
    "from sklearn.model_selection import cross_val_score\n",
    "from sklearn.model_selection import RepeatedKFold\n",
    "from sklearn.linear_model import Lasso\n",
    "from sklearn.linear_model import LassoCV\n",
    "from sklearn.linear_model import LogisticRegression\n",
    "from sklearn.model_selection import train_test_split\n",
    "from sklearn.model_selection import GridSearchCV\n",
    "from sklearn.metrics import r2_score\n",
    "from sklearn.model_selection import KFold\n",
    "from sklearn.pipeline import make_pipeline\n",
    "from sklearn.preprocessing import OneHotEncoder, StandardScaler\n",
    "from sklearn.compose import ColumnTransformer\n",
    "from sklearn.preprocessing import LabelEncoder\n",
    "\n",
    "\n",
    "# Import the cleaned dataset - data.csv.\n",
    "df = pd.read_csv('/Users/frankstaszak/Desktop/207_team_project/data/data.csv')\n",
    "\n",
    "# Descriptions of all variables other than the renamed ones\n",
    "\n",
    "codebook = pd.read_csv(\"https://www.dropbox.com/s/yygyqp5yhqvmdiy/Description_Variables_simple.csv?dl=1\")\n",
    "summary = pd.DataFrame(df.describe().T, columns=['count', 'mean', 'std', 'min', '25%', '50%', '75%', 'max']).reset_index()\n",
    "summary.rename(columns={\"index\": \"variable_code\"}, inplace=True)\n",
    "codebook = codebook.merge(summary, how='inner')\n",
    "pd.set_option('display.max_colwidth', None)\n",
    "print('-'*100)\n",
    "print('Descriptions of all variable labels other than the renamed ones')\n",
    "print('-'*100)\n",
    "codebook[['variable_code', 'variable_question']].style.set_properties(**{'text-align': 'left'})\n",
    "\n",
    "# *** Define data, train, and evaluate model. ********************************************\n",
    "\n",
    "# Define train/test data.\n",
    "le = LabelEncoder()\n",
    "df['language'] = le.fit_transform(df['language'].astype(str))\n",
    "X = df.drop(columns=['Religion_over_science'])\n",
    "# Define target (using dependent var - Religion_over_science)\n",
    "y = df['Religion_over_science']\n",
    "X_train, X_test, y_train, y_test = train_test_split(X, y, test_size=0.2, random_state=123)\n",
    "\n",
    "scores_train = []\n",
    "scores_test = []\n",
    "scores_time = []\n",
    "alpha = np.linspace(0.0001, 0.3, 10)\n",
    "\n",
    "for i in alpha:\n",
    "    start_time = time.time()\n",
    "    model = make_pipeline(preprocessor, Lasso(alpha=i))\n",
    "    X_train, X_test, y_train, y_test = train_test_split(df[cols_X], df['Religion_over_science'], random_state=123, test_size=0.2)\n",
    "    _ = model.fit(X_train, y_train)\n",
    "    scores_train.append(model.score(X_train, y_train).round(3)) # in-the-sample score\n",
    "    scores_test.append(model.score(X_test, y_test).round(3)) # out-of-the-sample score\n",
    "    scores_time.append(time.time() - start_time) # time elapse for this model\n",
    "\n",
    "report = pd.DataFrame({\n",
    "    'alpha': alpha,\n",
    "    'R2 (train)': scores_train,\n",
    "    'R2 (test)': scores_test,\n",
    "    'Time (sec)': scores_time\n",
    "})\n",
    "\n",
    "display(report)\n",
    "\n",
    "plt.plot(alpha, scores_train, label='training')\n",
    "plt.plot(alpha, scores_test, label='test')\n",
    "plt.legend()\n",
    "plt.xlabel('alpha')\n",
    "plt.ylabel('R-squared')\n",
    "plt.title('R-squared vs. alpha')\n",
    "plt.show()\n",
    "plt.close()"
   ]
  },
  {
   "cell_type": "markdown",
   "metadata": {},
   "source": [
    "\n",
    "#### Evaluation: \n",
    "We observe that as the alpha weight increases, the R-squared score decreases. The coefficients in the regression model display a value closer to zero as the alpha weight increases. This relationship indicates that the observed outcomes of the model decline based on the degree to which the alpha weighting increased.\n",
    "\n",
    "Furthermore, the regression modeled nearly forty eight percent of the outcomes at its peak.\n",
    "\n",
    "\n",
    "\n",
    "<font size=\"2\">Sources:</font><font size=\"1\"> \n",
    "*  sklearn.linear_model.Lasso. https://scikit-learn.org/stable/modules/generated/sklearn.linear_model.Lasso.html\n",
    "*  sklearn.model_selection.RepeatedKFold. https://scikit-learn.org/stable/modules/generated/sklearn.model_selection.RepeatedKFold.html\n",
    "*  Lasso and Elastic Net for Sparse Signals. https://scikit-learn.org/stable/auto_examples/linear_model/plot_lasso_and_elasticnet.html#sphx-glr-auto-examples-linear-model-plot-lasso-and-elasticnet-py\n",
    "*  sklearn.metrics.r2_score. https://scikit-learn.org/stable/modules/generated/sklearn.metrics.r2_score.html\n",
    "*  What is the Difference Between Test and Validation Datasets? Brownlee, Jason. 2017  https://machinelearningmastery.com/difference-test-validation-datasets/\n",
    "*  Repeated k-Fold Cross-Validation for Model Evaluation in Python. Brownlee, Jason. 2020 https://machinelearningmastery.com/repeated-k-fold-cross-validation-with-python/</font>"
   ]
  },
  {
   "cell_type": "code",
   "execution_count": 15,
   "metadata": {},
   "outputs": [],
   "source": [
    "# Helper function for finding the top five features.\n",
    "\n",
    "def top5features(train, index=cols_X):\n",
    "    print('-'*100)\n",
    "    print('Feature importance based on feature permutation')\n",
    "    print('-'*100)\n",
    "\n",
    "    result = permutation_importance(\n",
    "        train, X_test, y_test, n_repeats=10, random_state=42, n_jobs=2\n",
    "    )\n",
    "\n",
    "    forest_importances = pd.Series(result.importances_mean, index=index)\n",
    "\n",
    "    forest_importances.sort_values(ascending=False).plot(kind='bar', figsize=(20,5), color=colors)\n",
    "    plt.title(\"Feature importances using permutation on full model\")\n",
    "    plt.ylabel(\"Mean accuracy decrease\")\n",
    "    plt.show()\n",
    "    plt.close()\n",
    "\n",
    "    print(\"-\" * 100)\n",
    "    print(\"Top 5 most important features\")\n",
    "    print(\"-\" * 100)\n",
    "    top5 = forest_importances.sort_values(ascending=False).head(5)\n",
    "    print(top5)\n",
    "    print(\"\"\"\n",
    "    Note: descriptions for feature labels below\"\"\")\n",
    "    display(codebook[codebook['variable_code'].isin(top5.index)][['variable_code', 'variable_question']].style.hide_index())"
   ]
  },
  {
   "cell_type": "code",
   "execution_count": 18,
   "metadata": {},
   "outputs": [
    {
     "name": "stderr",
     "output_type": "stream",
     "text": [
      "/Users/frankstaszak/opt/anaconda3/lib/python3.7/site-packages/sklearn/pipeline.py:354: UserWarning: With alpha=0, this algorithm does not converge well. You are advised to use the LinearRegression estimator\n",
      "  self._final_estimator.fit(Xt, y, **fit_params)\n",
      "/Users/frankstaszak/opt/anaconda3/lib/python3.7/site-packages/sklearn/linear_model/_coordinate_descent.py:476: UserWarning: Coordinate descent with no regularization may lead to unexpected results and is discouraged.\n",
      "  positive)\n",
      "/Users/frankstaszak/opt/anaconda3/lib/python3.7/site-packages/sklearn/linear_model/_coordinate_descent.py:476: ConvergenceWarning: Objective did not converge. You might want to increase the number of iterations. Duality gap: 10837.775871056858, tolerance: 4.130062566898311\n",
      "  positive)\n"
     ]
    },
    {
     "name": "stdout",
     "output_type": "stream",
     "text": [
      "----------------------------------------------------------------------------------------------------\n",
      "Feature importance based on feature permutation\n",
      "----------------------------------------------------------------------------------------------------\n"
     ]
    },
    {
     "data": {
      "image/png": "[encoded data removed]",
      "text/plain": [
       "<Figure size 1440x360 with 1 Axes>"
      ]
     },
     "metadata": {
      "needs_background": "light"
     },
     "output_type": "display_data"
    },
    {
     "name": "stdout",
     "output_type": "stream",
     "text": [
      "----------------------------------------------------------------------------------------------------\n",
      "Top 5 most important features\n",
      "----------------------------------------------------------------------------------------------------\n",
      "country    0.553\n",
      "language   0.172\n",
      "E069_01    0.053\n",
      "F050       0.029\n",
      "A098       0.020\n",
      "dtype: float64\n",
      "\n",
      "    Note: descriptions for feature labels below\n"
     ]
    },
    {
     "data": {
      "text/html": [
       "<style  type=\"text/css\" >\n",
       "</style><table id=\"T_30f0d1d4_b977_11ec_a6aa_acde48001122\" ><thead>    <tr>        <th class=\"col_heading level0 col0\" >variable_code</th>        <th class=\"col_heading level0 col1\" >variable_question</th>    </tr></thead><tbody>\n",
       "                <tr>\n",
       "                                <td id=\"T_30f0d1d4_b977_11ec_a6aa_acde48001122row0_col0\" class=\"data row0 col0\" >A098</td>\n",
       "                        <td id=\"T_30f0d1d4_b977_11ec_a6aa_acde48001122row0_col1\" class=\"data row0 col1\" >Now I am going to read out a list of voluntary organizations; for each one, could you tell me whether you are a member, an active member, an inactive member or not a member of that type of organization?  Church or religious organization</td>\n",
       "            </tr>\n",
       "            <tr>\n",
       "                                <td id=\"T_30f0d1d4_b977_11ec_a6aa_acde48001122row1_col0\" class=\"data row1 col0\" >E069_01</td>\n",
       "                        <td id=\"T_30f0d1d4_b977_11ec_a6aa_acde48001122row1_col1\" class=\"data row1 col1\" >I am going to name a number of organizations. For each one, could you tell me how much confidence you have in them: is it a great deal of confidence, quite a lot of confidence, not very much confidence or none at all?   The Churches (mosque, temple etc.)</td>\n",
       "            </tr>\n",
       "            <tr>\n",
       "                                <td id=\"T_30f0d1d4_b977_11ec_a6aa_acde48001122row2_col0\" class=\"data row2 col0\" >F050</td>\n",
       "                        <td id=\"T_30f0d1d4_b977_11ec_a6aa_acde48001122row2_col1\" class=\"data row2 col1\" >In which of the following things do you believe, if you believe in any?  God</td>\n",
       "            </tr>\n",
       "    </tbody></table>"
      ],
      "text/plain": [
       "<pandas.io.formats.style.Styler at 0x7fbce84b9750>"
      ]
     },
     "metadata": {},
     "output_type": "display_data"
    }
   ],
   "source": [
    "import time\n",
    "from sklearn.inspection import permutation_importance\n",
    "\n",
    "alpha_best = int(report.loc[report['R2 (test)'] == float(report['R2 (test)'].max()), 'alpha'])\n",
    "model = make_pipeline(preprocessor, Lasso(alpha=alpha_best))\n",
    "X_train, X_test, y_train, y_test = train_test_split(df[cols_X], df['Religion_over_science'], random_state=123, test_size=0.2)\n",
    "train = model.fit(X_train, y_train)\n",
    "\n",
    "top5features(train)"
   ]
  },
  {
   "cell_type": "code",
   "execution_count": null,
   "metadata": {},
   "outputs": [],
   "source": []
  }
 ],
 "metadata": {
  "colab": {
   "collapsed_sections": [],
   "name": "data_preprocessing.ipynb",
   "provenance": []
  },
  "kernelspec": {
   "display_name": "Python 3",
   "language": "python",
   "name": "python3"
  },
  "language_info": {
   "codemirror_mode": {
    "name": "ipython",
    "version": 3
   },
   "file_extension": ".py",
   "mimetype": "text/x-python",
   "name": "python",
   "nbconvert_exporter": "python",
   "pygments_lexer": "ipython3",
   "version": "3.7.6"
  }
 },
 "nbformat": 4,
 "nbformat_minor": 5
}
