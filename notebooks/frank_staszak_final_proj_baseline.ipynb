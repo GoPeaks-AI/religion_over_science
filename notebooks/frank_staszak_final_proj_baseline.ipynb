{
 "cells": [
  {
   "cell_type": "markdown",
   "metadata": {},
   "source": [
    "# LASSO regression, as predicted by one-hot encoded values of year, country, language, and occupation.\n",
    "\n",
    "\n",
    "#### Metric of evaluation type and justification: \n",
    "We use R-squared as a metric of evaluation. A linear relationship is assumed to exist between the group of independent variables year, country, language, and occupation and the dependent (target) variable Religion_over_science; hence the Lasso regression algorithm will evaluate the data. Lasso regression also lowers complexity and reduces noise in the model. R-squared will show a good measurement of how well the model fits the dependent variables based on the penalties enforced by Lasso regression."
   ]
  },
  {
   "cell_type": "code",
   "execution_count": 2,
   "metadata": {
    "colab": {
     "base_uri": "https://localhost:8080/",
     "height": 605
    },
    "id": "WXKHSLidjP9K",
    "outputId": "a0a1f29e-05b1-428e-f551-ffb82a0ff34d"
   },
   "outputs": [
    {
     "name": "stderr",
     "output_type": "stream",
     "text": [
      "[Parallel(n_jobs=1)]: Using backend SequentialBackend with 1 concurrent workers.\n",
      "......................................................................................................................................................[Parallel(n_jobs=1)]: Done  15 out of  15 | elapsed:    2.1s finished\n",
      "[Parallel(n_jobs=1)]: Using backend SequentialBackend with 1 concurrent workers.\n",
      "......................................................................................................................................................[Parallel(n_jobs=1)]: Done  15 out of  15 | elapsed:    2.1s finished\n",
      "[Parallel(n_jobs=1)]: Using backend SequentialBackend with 1 concurrent workers.\n",
      "......................................................................................................................................................[Parallel(n_jobs=1)]: Done  15 out of  15 | elapsed:    2.1s finished\n",
      "[Parallel(n_jobs=1)]: Using backend SequentialBackend with 1 concurrent workers.\n",
      "......................................................................................................................................................[Parallel(n_jobs=1)]: Done  15 out of  15 | elapsed:    2.1s finished\n",
      "[Parallel(n_jobs=1)]: Using backend SequentialBackend with 1 concurrent workers.\n",
      "......................................................................................................................................................[Parallel(n_jobs=1)]: Done  15 out of  15 | elapsed:    2.1s finished\n",
      "[Parallel(n_jobs=1)]: Using backend SequentialBackend with 1 concurrent workers.\n",
      "......................................................................................................................................................[Parallel(n_jobs=1)]: Done  15 out of  15 | elapsed:    2.1s finished\n",
      "[Parallel(n_jobs=1)]: Using backend SequentialBackend with 1 concurrent workers.\n",
      "......................................................................................................................................................[Parallel(n_jobs=1)]: Done  15 out of  15 | elapsed:    2.1s finished\n",
      "[Parallel(n_jobs=1)]: Using backend SequentialBackend with 1 concurrent workers.\n",
      "......................................................................................................................................................[Parallel(n_jobs=1)]: Done  15 out of  15 | elapsed:    2.2s finished\n",
      "[Parallel(n_jobs=1)]: Using backend SequentialBackend with 1 concurrent workers.\n",
      "......................................................................................................................................................[Parallel(n_jobs=1)]: Done  15 out of  15 | elapsed:    2.4s finished\n",
      "[Parallel(n_jobs=1)]: Using backend SequentialBackend with 1 concurrent workers.\n",
      "......................................................................................................................................................[Parallel(n_jobs=1)]: Done  15 out of  15 | elapsed:    2.3s finished\n"
     ]
    },
    {
     "data": {
      "text/html": [
       "<div>\n",
       "<style scoped>\n",
       "    .dataframe tbody tr th:only-of-type {\n",
       "        vertical-align: middle;\n",
       "    }\n",
       "\n",
       "    .dataframe tbody tr th {\n",
       "        vertical-align: top;\n",
       "    }\n",
       "\n",
       "    .dataframe thead th {\n",
       "        text-align: right;\n",
       "    }\n",
       "</style>\n",
       "<table border=\"1\" class=\"dataframe\">\n",
       "  <thead>\n",
       "    <tr style=\"text-align: right;\">\n",
       "      <th></th>\n",
       "      <th>Alpha range</th>\n",
       "      <th>R2 (train)</th>\n",
       "      <th>R2 (test)</th>\n",
       "    </tr>\n",
       "  </thead>\n",
       "  <tbody>\n",
       "    <tr>\n",
       "      <th>0</th>\n",
       "      <td>0.000</td>\n",
       "      <td>0.474</td>\n",
       "      <td>0.476</td>\n",
       "    </tr>\n",
       "    <tr>\n",
       "      <th>1</th>\n",
       "      <td>0.033</td>\n",
       "      <td>0.474</td>\n",
       "      <td>0.476</td>\n",
       "    </tr>\n",
       "    <tr>\n",
       "      <th>2</th>\n",
       "      <td>0.067</td>\n",
       "      <td>0.474</td>\n",
       "      <td>0.476</td>\n",
       "    </tr>\n",
       "    <tr>\n",
       "      <th>3</th>\n",
       "      <td>0.100</td>\n",
       "      <td>0.474</td>\n",
       "      <td>0.476</td>\n",
       "    </tr>\n",
       "    <tr>\n",
       "      <th>4</th>\n",
       "      <td>0.133</td>\n",
       "      <td>0.474</td>\n",
       "      <td>0.476</td>\n",
       "    </tr>\n",
       "    <tr>\n",
       "      <th>5</th>\n",
       "      <td>0.167</td>\n",
       "      <td>0.474</td>\n",
       "      <td>0.476</td>\n",
       "    </tr>\n",
       "    <tr>\n",
       "      <th>6</th>\n",
       "      <td>0.200</td>\n",
       "      <td>0.474</td>\n",
       "      <td>0.476</td>\n",
       "    </tr>\n",
       "    <tr>\n",
       "      <th>7</th>\n",
       "      <td>0.233</td>\n",
       "      <td>0.474</td>\n",
       "      <td>0.476</td>\n",
       "    </tr>\n",
       "    <tr>\n",
       "      <th>8</th>\n",
       "      <td>0.267</td>\n",
       "      <td>0.474</td>\n",
       "      <td>0.476</td>\n",
       "    </tr>\n",
       "    <tr>\n",
       "      <th>9</th>\n",
       "      <td>0.300</td>\n",
       "      <td>0.474</td>\n",
       "      <td>0.476</td>\n",
       "    </tr>\n",
       "  </tbody>\n",
       "</table>\n",
       "</div>"
      ],
      "text/plain": [
       "   Alpha range  R2 (train)  R2 (test)\n",
       "0        0.000       0.474      0.476\n",
       "1        0.033       0.474      0.476\n",
       "2        0.067       0.474      0.476\n",
       "3        0.100       0.474      0.476\n",
       "4        0.133       0.474      0.476\n",
       "5        0.167       0.474      0.476\n",
       "6        0.200       0.474      0.476\n",
       "7        0.233       0.474      0.476\n",
       "8        0.267       0.474      0.476\n",
       "9        0.300       0.474      0.476"
      ]
     },
     "metadata": {},
     "output_type": "display_data"
    },
    {
     "data": {
      "image/png": "[encoded data removed]",
      "text/plain": [
       "<Figure size 864x576 with 1 Axes>"
      ]
     },
     "metadata": {
      "needs_background": "light"
     },
     "output_type": "display_data"
    }
   ],
   "source": [
    "# load basic packages\n",
    "import numpy as np\n",
    "import pandas as pd\n",
    "pd.set_option('display.max_columns', None)\n",
    "pd.set_option('display.max_rows', None)\n",
    "pd.options.display.float_format = '{:,.3f}'.format\n",
    "from numpy import mean\n",
    "from numpy import std\n",
    "from numpy import absolute\n",
    "from pandas import read_csv\n",
    "\n",
    "# load visualization packages\n",
    "import matplotlib.pyplot as plt\n",
    "%matplotlib inline\n",
    "import seaborn as sns\n",
    "colors = sns.color_palette()\n",
    "\n",
    "# load sklearn packages\n",
    "from sklearn.model_selection import cross_val_score\n",
    "from sklearn.model_selection import RepeatedKFold\n",
    "from sklearn.linear_model import Lasso\n",
    "from sklearn.linear_model import LassoCV\n",
    "from sklearn.linear_model import LogisticRegression\n",
    "from sklearn.model_selection import train_test_split\n",
    "from sklearn.model_selection import GridSearchCV\n",
    "from sklearn.metrics import r2_score\n",
    "from sklearn.model_selection import KFold\n",
    "from sklearn.pipeline import make_pipeline\n",
    "from sklearn.preprocessing import OneHotEncoder, StandardScaler\n",
    "from sklearn.compose import ColumnTransformer\n",
    "from sklearn.preprocessing import LabelEncoder\n",
    "\n",
    "\n",
    "# Import the cleaned dataset - data.csv.\n",
    "df = pd.read_csv('/Users/frankstaszak/Desktop/207_team_project/data/data.csv')\n",
    "\n",
    "# *** Define data, train, and evaluate model. ********************************************\n",
    "\n",
    "# Define train/test data.\n",
    "le = LabelEncoder()\n",
    "df['language'] = le.fit_transform(df['language'].astype(str))\n",
    "X = df.drop(columns=['Religion_over_science'])\n",
    "# Define target (using dependent var - Religion_over_science)\n",
    "y = df['Religion_over_science']\n",
    "X_train, X_test, y_train, y_test = train_test_split(X, y, test_size=0.2, random_state=123)\n",
    "\n",
    "# Tuning\n",
    "# Use 5-fold cross validation for model evaluation.\n",
    "cv = RepeatedKFold(n_splits=5, n_repeats=3, random_state=1)\n",
    "# Use alpha range from 0.0001 up to 0.3 to remove unimportant variables.\n",
    "alpha = np.linspace(0.0001, 0.3, 10)\n",
    "\n",
    "# Encoders.\n",
    "categorical_preprocessor = OneHotEncoder(handle_unknown=\"ignore\", sparse=False)\n",
    "numerical_preprocessor = StandardScaler()\n",
    "\n",
    "# Categorical and numeric cols.\n",
    "cols_category = ['age', 'sex', 'year', 'country', 'language', 'occupation']\n",
    "cols_numeric = [i for i in df.columns if i not in cols_category and i != 'Religion_over_science']\n",
    "cols_X = [i for i in df.columns if i != 'Religion_over_science']\n",
    "df.columns = ['Religion_over_science'] + cols_X\n",
    "\n",
    "# Preprocessor.\n",
    "preprocessor = ColumnTransformer([\n",
    "    ('one-hot-encoder', categorical_preprocessor, cols_category),\n",
    "    ('standard_scaler', numerical_preprocessor, cols_numeric)])\n",
    "\n",
    "r2_train_scores = []\n",
    "r2_test_scores = []\n",
    "for i in range(10):\n",
    "    lasso_model = make_pipeline(\n",
    "        preprocessor,\n",
    "        LassoCV(alphas=alpha, cv=cv, n_jobs=1, verbose=True, random_state=123))\n",
    "    lasso_model.fit(X_train, y_train)\n",
    "    y_train_pred = lasso_model.predict(X_train)\n",
    "    y_test_pred = lasso_model.predict(X_test)\n",
    "    r2_train_scores.append(r2_score(y_train, y_train_pred))    \n",
    "    r2_test_scores.append(r2_score(y_test, y_test_pred))   \n",
    "# ****************************************************************************************\n",
    "\n",
    "# Create and display report.\n",
    "report = pd.DataFrame({\n",
    "    'Alpha range': alpha,\n",
    "    'R2 (train)': r2_train_scores,\n",
    "    'R2 (test)': r2_test_scores\n",
    "})\n",
    "display(report)\n",
    "\n",
    "# *** Visualize results, R-squared vs Alpha weights. *************************************\n",
    "\n",
    "# Plot the R-squared scores with the given range of alpha weights.\n",
    "fontsize = 16\n",
    "plt.figure(figsize=(12,8))\n",
    "plt.ylim([0.470, 0.480])\n",
    "plt.title('R-squared Scores vs. Alpha Weight Range', fontdict={'fontsize': fontsize})\n",
    "sns.scatterplot(alpha, r2_train_scores, label='R-squared training')\n",
    "plt.plot(alpha, r2_train_scores)\n",
    "sns.scatterplot(alpha, r2_test_scores, label='R-squared test')\n",
    "plt.plot(alpha, r2_test_scores)\n",
    "plt.xlabel('Alpha weight range', size=15)\n",
    "plt.ylabel('R-squared', size=15)\n",
    "plt.legend(prop={'size': fontsize})\n",
    "plt.show()\n",
    "# ****************************************************************************************"
   ]
  },
  {
   "cell_type": "markdown",
   "metadata": {},
   "source": [
    "\n",
    "#### Evaluation: \n",
    "We observe that as the alpha weight increases, the R-squared score decreases. The coefficients in the regression model display a value closer to zero as the alpha weight increases. This relationship indicates that the observed outcomes of the model decline based on the degree to which the alpha weighting increased.\n",
    "\n",
    "Furthermore, the regression modeled nearly forty percent of the outcomes at its peak.\n",
    "\n",
    "\n",
    "\n",
    "<font size=\"2\">Sources:</font><font size=\"1\"> \n",
    "*  sklearn.linear_model.Lasso. https://scikit-learn.org/stable/modules/generated/sklearn.linear_model.Lasso.html\n",
    "*  sklearn.model_selection.RepeatedKFold. https://scikit-learn.org/stable/modules/generated/sklearn.model_selection.RepeatedKFold.html\n",
    "*  Lasso and Elastic Net for Sparse Signals. https://scikit-learn.org/stable/auto_examples/linear_model/plot_lasso_and_elasticnet.html#sphx-glr-auto-examples-linear-model-plot-lasso-and-elasticnet-py\n",
    "*  sklearn.metrics.r2_score. https://scikit-learn.org/stable/modules/generated/sklearn.metrics.r2_score.html\n",
    "*  What is the Difference Between Test and Validation Datasets? Brownlee, Jason. 2017  https://machinelearningmastery.com/difference-test-validation-datasets/\n",
    "*  Repeated k-Fold Cross-Validation for Model Evaluation in Python. Brownlee, Jason. 2020 https://machinelearningmastery.com/repeated-k-fold-cross-validation-with-python/</font>"
   ]
  },
  {
   "cell_type": "code",
   "execution_count": 3,
   "metadata": {},
   "outputs": [
    {
     "name": "stdout",
     "output_type": "stream",
     "text": [
      "----------------------------------------------------------------------------------------------------\n",
      "Feature importance based on feature permutation\n",
      "----------------------------------------------------------------------------------------------------\n"
     ]
    },
    {
     "name": "stderr",
     "output_type": "stream",
     "text": [
      "[Parallel(n_jobs=1)]: Using backend SequentialBackend with 1 concurrent workers.\n",
      "......................................................................................................................................................[Parallel(n_jobs=1)]: Done  15 out of  15 | elapsed:    2.2s finished\n"
     ]
    },
    {
     "name": "stdout",
     "output_type": "stream",
     "text": [
      "Elapsed time to compute the importances: 11.524 seconds\n"
     ]
    }
   ],
   "source": [
    "import time\n",
    "from sklearn.inspection import permutation_importance\n",
    "\n",
    "\n",
    "\n",
    "print('-'*100)\n",
    "print('Feature importance based on feature permutation')\n",
    "print('-'*100)\n",
    "\n",
    "lasso_model = make_pipeline(\n",
    "    preprocessor,\n",
    "        LassoCV(alphas=alpha, cv=cv, n_jobs=1, verbose=True, random_state=123))\n",
    "lasso_model.fit(X_train, y_train)\n",
    "    \n",
    "start_time = time.time()\n",
    "result = permutation_importance(\n",
    "    lasso_model, X_test, y_test, n_repeats=10, random_state=42, n_jobs=2\n",
    ")\n",
    "elapsed_time = time.time() - start_time\n",
    "print(f\"Elapsed time to compute the importances: {elapsed_time:.3f} seconds\")\n",
    "\n",
    "lasso_importances = pd.Series(result.importances_mean, index=X.columns)\n"
   ]
  },
  {
   "cell_type": "code",
   "execution_count": 112,
   "metadata": {},
   "outputs": [
    {
     "name": "stdout",
     "output_type": "stream",
     "text": [
      "----------------------------------------------------------------------------------------------------\n",
      "Top 4 most important features\n",
      "----------------------------------------------------------------------------------------------------\n"
     ]
    },
    {
     "data": {
      "text/plain": [
       "country      0.530\n",
       "language     0.184\n",
       "year         0.011\n",
       "occupation   0.001\n",
       "dtype: float64"
      ]
     },
     "execution_count": 112,
     "metadata": {},
     "output_type": "execute_result"
    }
   ],
   "source": [
    "print(\"-\" * 100)\n",
    "print(\"Top 4 most important features\")\n",
    "print(\"-\" * 100)\n",
    "lasso_importances.sort_values(ascending=False).head(10)"
   ]
  },
  {
   "cell_type": "code",
   "execution_count": 111,
   "metadata": {},
   "outputs": [
    {
     "data": {
      "image/png": "[encoded data removed]",
      "text/plain": [
       "<Figure size 720x360 with 1 Axes>"
      ]
     },
     "metadata": {
      "needs_background": "light"
     },
     "output_type": "display_data"
    }
   ],
   "source": [
    "lasso_importances.sort_values(ascending=False).plot(kind='bar', figsize=(10,5), color=colors)\n",
    "plt.title(\"Feature importances using permutation on full model\", fontdict={'fontsize': fontsize})\n",
    "plt.ylabel(\"Mean accuracy decrease\")\n",
    "plt.show()\n",
    "plt.close()"
   ]
  },
  {
   "cell_type": "code",
   "execution_count": null,
   "metadata": {},
   "outputs": [],
   "source": []
  }
 ],
 "metadata": {
  "colab": {
   "collapsed_sections": [],
   "name": "data_preprocessing.ipynb",
   "provenance": []
  },
  "kernelspec": {
   "display_name": "Python 3",
   "language": "python",
   "name": "python3"
  },
  "language_info": {
   "codemirror_mode": {
    "name": "ipython",
    "version": 3
   },
   "file_extension": ".py",
   "mimetype": "text/x-python",
   "name": "python",
   "nbconvert_exporter": "python",
   "pygments_lexer": "ipython3",
   "version": "3.7.6"
  }
 },
 "nbformat": 4,
 "nbformat_minor": 5
}
